{
 "cells": [
  {
   "cell_type": "markdown",
   "metadata": {},
   "source": [
    "# Defining Directories and categories first print data"
   ]
  },
  {
   "cell_type": "code",
   "execution_count": 1,
   "metadata": {},
   "outputs": [
    {
     "name": "stderr",
     "output_type": "stream",
     "text": [
      "Using TensorFlow backend.\n"
     ]
    },
    {
     "data": {
      "text/plain": [
       "<Figure size 640x480 with 1 Axes>"
      ]
     },
     "metadata": {},
     "output_type": "display_data"
    }
   ],
   "source": [
    "import numpy as np\n",
    "import matplotlib.pyplot as plt\n",
    "import os\n",
    "import cv2\n",
    "from tqdm import tqdm\n",
    "import pandas as pd\n",
    "from keras.utils import np_utils\n",
    "\n",
    "TRAIN_DATADIR = \"/home/reinaldo/Documentos/PetImages/database\"\n",
    "TEST_DATADIR = \"/home/reinaldo/Documentos/PetImages/\"\n",
    "CATEGORIES = [\"Dog\", \"Cat\"]\n",
    "\n",
    "for category in CATEGORIES:  # do dogs and cats\n",
    "    path = os.path.join(TRAIN_DATADIR,category)  # create path to dogs and cats\n",
    "    for img in os.listdir(path):  # iterate over each image per dogs and cats\n",
    "        img_array = cv2.imread(os.path.join(path,img) ,cv2.IMREAD_GRAYSCALE)  # convert to array\n",
    "        plt.imshow(img_array, cmap='gray')  # graph it\n",
    "        plt.show()  # display!\n",
    "\n",
    "        break  # we just want one for now so break\n",
    "    break  #...and one more!"
   ]
  },
  {
   "cell_type": "code",
   "execution_count": 2,
   "metadata": {},
   "outputs": [
    {
     "name": "stdout",
     "output_type": "stream",
     "text": [
      "[[247 255 251 ... 174 183 192]\n",
      " [246 250 255 ... 190 197 206]\n",
      " [248 247 255 ... 193 199 205]\n",
      " ...\n",
      " [166 160 157 ... 214 202 192]\n",
      " [167 162 159 ... 226 212 200]\n",
      " [167 163 162 ... 240 224 209]]\n"
     ]
    }
   ],
   "source": [
    "print(img_array)"
   ]
  },
  {
   "cell_type": "code",
   "execution_count": 3,
   "metadata": {},
   "outputs": [
    {
     "name": "stdout",
     "output_type": "stream",
     "text": [
      "(307, 315)\n"
     ]
    }
   ],
   "source": [
    "print(img_array.shape)"
   ]
  },
  {
   "cell_type": "code",
   "execution_count": 4,
   "metadata": {},
   "outputs": [
    {
     "data": {
      "image/png": "[encoded data removed]",
      "text/plain": [
       "<Figure size 432x288 with 1 Axes>"
      ]
     },
     "metadata": {
      "needs_background": "light"
     },
     "output_type": "display_data"
    },
    {
     "name": "stdout",
     "output_type": "stream",
     "text": [
      "(100, 100)\n"
     ]
    }
   ],
   "source": [
    "IMG_SIZE = 100\n",
    "\n",
    "new_array = cv2.resize(img_array, (IMG_SIZE, IMG_SIZE))\n",
    "new_array2 = cv2.resize(img_array, (IMG_SIZE, IMG_SIZE))\n",
    "plt.imshow(new_array, cmap='gray')\n",
    "plt.imshow(new_array2, cmap='gray')\n",
    "plt.show()\n",
    "print(new_array.shape)"
   ]
  },
  {
   "cell_type": "markdown",
   "metadata": {},
   "source": [
    "# Create training and test data"
   ]
  },
  {
   "cell_type": "code",
   "execution_count": 5,
   "metadata": {},
   "outputs": [
    {
     "name": "stderr",
     "output_type": "stream",
     "text": [
      "100%|██████████| 100/100 [00:00<00:00, 930.43it/s]\n",
      "100%|██████████| 12501/12501 [00:12<00:00, 994.33it/s] \n",
      "100%|██████████| 100/100 [00:00<00:00, 1057.89it/s]\n",
      "100%|██████████| 12501/12501 [00:11<00:00, 1112.30it/s]"
     ]
    },
    {
     "name": "stdout",
     "output_type": "stream",
     "text": [
      "200\n",
      "24946\n"
     ]
    },
    {
     "name": "stderr",
     "output_type": "stream",
     "text": [
      "\n"
     ]
    }
   ],
   "source": [
    "training_data = []\n",
    "test_data = []\n",
    "def create_training_data():\n",
    "    for category in CATEGORIES:  # do dogs and cats\n",
    "\n",
    "        path_train = os.path.join(TRAIN_DATADIR,category)  # create path to dogs and cats to train\n",
    "        path_test = os.path.join(TEST_DATADIR,category)  # create path to dogs and cats to test\n",
    "        class_num = CATEGORIES.index(category)  # get the classification  (0 or a 1). 0=dog 1=cat\n",
    "\n",
    "        for img in tqdm(os.listdir(path_train)):  # iterate over each image per dogs and cats\n",
    "            try:\n",
    "                img_array = cv2.imread(os.path.join(path_train,img) ,cv2.IMREAD_GRAYSCALE)  # convert to array\n",
    "                new_array = cv2.resize(img_array, (IMG_SIZE, IMG_SIZE))  # resize to normalize data size\n",
    "                training_data.append([new_array, class_num])  # add this to our training_data\n",
    "            except Exception as e:  # in the interest in keeping the output clean...\n",
    "                pass\n",
    "        for img in tqdm(os.listdir(path_test)):  # iterate over each image per dogs and cats\n",
    "            try:\n",
    "                img_array = cv2.imread(os.path.join(path_test,img) ,cv2.IMREAD_GRAYSCALE)  # convert to array\n",
    "                new_array2 = cv2.resize(img_array, (IMG_SIZE, IMG_SIZE))  # resize to normalize data size\n",
    "                test_data.append([new_array2, class_num])  # add this to our training_data\n",
    "            except Exception as e:  # in the interest in keeping the output clean...\n",
    "                pass            \n",
    "            #except OSError as e:\n",
    "            #    print(\"OSErrroBad img most likely\", e, os.path.join(path,img))\n",
    "            #except Exception as e:\n",
    "            #    print(\"general exception\", e, os.path.join(path,img))\n",
    "\n",
    "create_training_data()\n",
    "\n",
    "print(len(training_data))\n",
    "print(len(test_data))\n"
   ]
  },
  {
   "cell_type": "code",
   "execution_count": 6,
   "metadata": {},
   "outputs": [],
   "source": [
    "import random\n",
    "\n",
    "random.shuffle(training_data)\n",
    "random.shuffle(test_data)"
   ]
  },
  {
   "cell_type": "markdown",
   "metadata": {},
   "source": [
    "# Reshape training and test data"
   ]
  },
  {
   "cell_type": "code",
   "execution_count": 7,
   "metadata": {},
   "outputs": [
    {
     "name": "stdout",
     "output_type": "stream",
     "text": [
      "[[[[13]\n",
      "   [ 9]\n",
      "   [11]\n",
      "   ...\n",
      "   [30]\n",
      "   [27]\n",
      "   [23]]\n",
      "\n",
      "  [[13]\n",
      "   [ 9]\n",
      "   [ 9]\n",
      "   ...\n",
      "   [14]\n",
      "   [24]\n",
      "   [51]]\n",
      "\n",
      "  [[32]\n",
      "   [17]\n",
      "   [11]\n",
      "   ...\n",
      "   [44]\n",
      "   [21]\n",
      "   [27]]\n",
      "\n",
      "  ...\n",
      "\n",
      "  [[12]\n",
      "   [18]\n",
      "   [17]\n",
      "   ...\n",
      "   [83]\n",
      "   [85]\n",
      "   [95]]\n",
      "\n",
      "  [[11]\n",
      "   [13]\n",
      "   [15]\n",
      "   ...\n",
      "   [91]\n",
      "   [86]\n",
      "   [85]]\n",
      "\n",
      "  [[10]\n",
      "   [10]\n",
      "   [19]\n",
      "   ...\n",
      "   [72]\n",
      "   [57]\n",
      "   [59]]]]\n",
      "[[[[ 30]\n",
      "   [ 43]\n",
      "   [ 30]\n",
      "   ...\n",
      "   [134]\n",
      "   [ 39]\n",
      "   [ 29]]\n",
      "\n",
      "  [[ 37]\n",
      "   [ 41]\n",
      "   [ 33]\n",
      "   ...\n",
      "   [138]\n",
      "   [ 73]\n",
      "   [ 35]]\n",
      "\n",
      "  [[ 49]\n",
      "   [ 46]\n",
      "   [ 37]\n",
      "   ...\n",
      "   [169]\n",
      "   [111]\n",
      "   [ 45]]\n",
      "\n",
      "  ...\n",
      "\n",
      "  [[173]\n",
      "   [164]\n",
      "   [154]\n",
      "   ...\n",
      "   [146]\n",
      "   [129]\n",
      "   [170]]\n",
      "\n",
      "  [[145]\n",
      "   [144]\n",
      "   [146]\n",
      "   ...\n",
      "   [144]\n",
      "   [179]\n",
      "   [142]]\n",
      "\n",
      "  [[121]\n",
      "   [115]\n",
      "   [141]\n",
      "   ...\n",
      "   [132]\n",
      "   [130]\n",
      "   [139]]]]\n"
     ]
    }
   ],
   "source": [
    "X_test = []\n",
    "X_train = []\n",
    "y_test = []\n",
    "y_train = []\n",
    "\n",
    "for features,label in training_data:\n",
    "    X_train.append(features)\n",
    "    y_train.append(label)\n",
    "\n",
    "print(X_train[0].reshape(-1, IMG_SIZE, IMG_SIZE, 1))\n",
    "\n",
    "X_train = np.array(X_train).reshape(-1, IMG_SIZE, IMG_SIZE, 1)\n",
    "\n",
    "for features,label in test_data:\n",
    "    X_test.append(features)\n",
    "    y_test.append(label)\n",
    "\n",
    "#print(X_test[0].reshape(-1, IMG_SIZE, IMG_SIZE, 1))\n",
    "\n",
    "X_test = np.array(X_test).reshape(-1, IMG_SIZE, IMG_SIZE, 1)"
   ]
  },
  {
   "cell_type": "code",
   "execution_count": 8,
   "metadata": {},
   "outputs": [],
   "source": [
    "import pickle\n",
    "\n",
    "pickle_out = open(\"X_test.pickle\",\"wb\")\n",
    "pickle.dump(X_test,pickle_out)\n",
    "\n",
    "pickle_out.close()\n",
    "\n",
    "pickle_out = open(\"y_test.pickle\",\"wb\")\n",
    "pickle.dump(y_test, pickle_out)\n",
    "pickle_out.close()\n",
    "\n",
    "pickle_out = open(\"X_train.pickle\",\"wb\")\n",
    "pickle.dump(X_train,pickle_out)\n",
    "\n",
    "pickle_out.close()\n",
    "\n",
    "pickle_out = open(\"y_train.pickle\",\"wb\")\n",
    "pickle.dump(y_train, pickle_out)\n",
    "pickle_out.close()\n"
   ]
  },
  {
   "cell_type": "markdown",
   "metadata": {},
   "source": [
    "# Saving data on pickle files"
   ]
  },
  {
   "cell_type": "code",
   "execution_count": 9,
   "metadata": {},
   "outputs": [],
   "source": [
    "#We can always load it in to our current script, or a totally new one by doing:\n",
    "\n",
    "pickle_in = open(\"X_train.pickle\",\"rb\")\n",
    "X_train = pickle.load(pickle_in)\n",
    "\n",
    "pickle_in = open(\"y_train.pickle\",\"rb\")\n",
    "y_train = pickle.load(pickle_in)\n",
    "pickle_in = open(\"X_test.pickle\",\"rb\")\n",
    "X_test = pickle.load(pickle_in)\n",
    "\n",
    "pickle_in = open(\"y_test.pickle\",\"rb\")\n",
    "y_test = pickle.load(pickle_in)"
   ]
  },
  {
   "cell_type": "markdown",
   "metadata": {},
   "source": [
    "# Apply data on first training machine"
   ]
  },
  {
   "cell_type": "code",
   "execution_count": 10,
   "metadata": {},
   "outputs": [
    {
     "name": "stderr",
     "output_type": "stream",
     "text": [
      "WARNING: Logging before flag parsing goes to stderr.\n",
      "W0729 14:19:20.865730 139769613440640 deprecation.py:506] From /home/reinaldo/masters/ai/.venv/lib/python3.7/site-packages/tensorflow/python/ops/init_ops.py:1251: calling VarianceScaling.__init__ (from tensorflow.python.ops.init_ops) with dtype is deprecated and will be removed in a future version.\n",
      "Instructions for updating:\n",
      "Call initializer instance with the dtype argument instead of passing it to the constructor\n"
     ]
    },
    {
     "name": "stdout",
     "output_type": "stream",
     "text": [
      "reinaldo\n",
      "Train on 140 samples, validate on 60 samples\n",
      "Epoch 1/5\n",
      "140/140 [==============================] - 1s 6ms/sample - loss: 2.0163 - categorical_accuracy: 0.5214 - val_loss: 1.8737 - val_categorical_accuracy: 0.4833\n",
      "Epoch 2/5\n",
      "140/140 [==============================] - 1s 4ms/sample - loss: 1.0891 - categorical_accuracy: 0.5214 - val_loss: 0.7804 - val_categorical_accuracy: 0.5167\n",
      "Epoch 3/5\n",
      "140/140 [==============================] - 1s 4ms/sample - loss: 0.7330 - categorical_accuracy: 0.4929 - val_loss: 0.7089 - val_categorical_accuracy: 0.5167\n",
      "Epoch 4/5\n",
      "140/140 [==============================] - 1s 5ms/sample - loss: 0.6567 - categorical_accuracy: 0.6429 - val_loss: 0.6853 - val_categorical_accuracy: 0.5833\n",
      "Epoch 5/5\n",
      "140/140 [==============================] - 1s 5ms/sample - loss: 0.6028 - categorical_accuracy: 0.8071 - val_loss: 0.6787 - val_categorical_accuracy: 0.5833\n",
      "score of the model test:\n",
      "[0.6915008504895538, 0.53872365]\n"
     ]
    }
   ],
   "source": [
    "import tensorflow as tf\n",
    "#from tensorflow.keras.datasets import cifar10\n",
    "from tensorflow.keras.preprocessing.image import ImageDataGenerator\n",
    "from tensorflow.keras.models import Sequential\n",
    "from tensorflow.keras.layers import Dense, Dropout, Activation, Flatten\n",
    "from tensorflow.keras.layers import Conv2D, MaxPooling2D\n",
    "import keras\n",
    "\n",
    "import pickle\n",
    "\n",
    "pickle_in = open(\"X_train.pickle\",\"rb\")\n",
    "X_train = pickle.load(pickle_in)\n",
    "\n",
    "pickle_in = open(\"y_train.pickle\",\"rb\")\n",
    "y_train = pickle.load(pickle_in)\n",
    "\n",
    "pickle_in = open(\"X_test.pickle\",\"rb\")\n",
    "X_test = pickle.load(pickle_in)\n",
    "\n",
    "pickle_in = open(\"y_test.pickle\",\"rb\")\n",
    "y_test = pickle.load(pickle_in)\n",
    "\n",
    "y_test = np_utils.to_categorical(y_test,2)\n",
    "y_train = np_utils.to_categorical(y_train,2)\n",
    "\n",
    "X_train = X_train/255.0\n",
    "X_test = X_test/255.0\n",
    "\n",
    "model = Sequential()\n",
    "\n",
    "model.add(Conv2D(20, (3, 3), input_shape=X_train.shape[1:]))\n",
    "model.add(Activation('relu'))\n",
    "model.add(MaxPooling2D(pool_size=(2, 2)))\n",
    "\n",
    "model.add(Conv2D(20, (3, 3)))\n",
    "model.add(Activation('relu'))\n",
    "model.add(MaxPooling2D(pool_size=(2, 2)))\n",
    "\n",
    "model.add(Flatten())  # this converts our 3D feature maps to 1D feature vectors\n",
    "\n",
    "model.add(Dense(20))\n",
    "\n",
    "model.add(Dense(2))\n",
    "model.add(Activation('softmax'))\n",
    "\n",
    "model.compile(loss='categorical_crossentropy',\n",
    "              optimizer='adam',\n",
    "              metrics=['categorical_accuracy'])\n",
    "print(\"reinaldo\")\n",
    "model.fit(X_train, y_train, batch_size=32, epochs=5, validation_split=0.3)\n",
    "print(\"score of the model test:\")\n",
    "score = model.evaluate(X_test, y_test, verbose=0)\n",
    "print(score)\n",
    "prediction = model.predict(X_test, batch_size=1)\n",
    "#print(prediction)\n"
   ]
  },
  {
   "cell_type": "markdown",
   "metadata": {},
   "source": [
    "# sorting the predictions without lose index "
   ]
  },
  {
   "cell_type": "code",
   "execution_count": 11,
   "metadata": {},
   "outputs": [
    {
     "name": "stdout",
     "output_type": "stream",
     "text": [
      "[[0.30572957 0.69427043]\n",
      " [0.4738963  0.52610373]\n",
      " [0.39603266 0.6039673 ]\n",
      " ...\n",
      " [0.47151968 0.5284803 ]\n",
      " [0.48503202 0.514968  ]\n",
      " [0.46976355 0.53023636]]\n",
      "<class 'numpy.ndarray'>\n"
     ]
    }
   ],
   "source": [
    "pred_index = np.argsort(prediction)\n",
    "\n",
    "print(S_pred)\n",
    "print(type(prediction[:1]))\n",
    "    "
   ]
  },
  {
   "cell_type": "code",
   "execution_count": 56,
   "metadata": {},
   "outputs": [
    {
     "name": "stdout",
     "output_type": "stream",
     "text": [
      "[[0.27127529 0.295366  ]\n",
      " [0.1467055  0.51042462]\n",
      " [0.14636223 0.1907725 ]]\n",
      "[[0 1]\n",
      " [0 1]\n",
      " [1 0]]\n"
     ]
    }
   ],
   "source": [
    "from numpy.random import rand\n",
    "testando = [rand(2), rand(2), rand(2)]\n",
    "testando=np.array(testando)\n",
    "testando_value = np.sort(testando,axis=1)\n",
    "testando_index = np.argsort(testando)\n",
    "print(testando_value)\n",
    "print(testando_index)"
   ]
  },
  {
   "cell_type": "code",
   "execution_count": null,
   "metadata": {},
   "outputs": [],
   "source": []
  },
  {
   "cell_type": "code",
   "execution_count": null,
   "metadata": {},
   "outputs": [],
   "source": []
  }
 ],
 "metadata": {
  "kernelspec": {
   "display_name": "Python 3",
   "language": "python",
   "name": "python3"
  },
  "language_info": {
   "codemirror_mode": {
    "name": "ipython",
    "version": 3
   },
   "file_extension": ".py",
   "mimetype": "text/x-python",
   "name": "python",
   "nbconvert_exporter": "python",
   "pygments_lexer": "ipython3",
   "version": "3.7.3"
  }
 },
 "nbformat": 4,
 "nbformat_minor": 2
}
